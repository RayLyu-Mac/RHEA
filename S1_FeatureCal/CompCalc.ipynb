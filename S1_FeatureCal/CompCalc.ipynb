{
 "cells": [
  {
   "cell_type": "markdown",
   "metadata": {},
   "source": [
    "# Composition Calculation \n",
    "## In this function, the composition for each element will be extracted from the composition name such as \n",
    "## AlCoCrTi will be shown as Al: 0.25, Co: 0.25, Cr: 0.25"
   ]
  },
  {
   "cell_type": "code",
   "execution_count": 1,
   "metadata": {},
   "outputs": [],
   "source": [
    "import numpy as np\n",
    "import math\n",
    "import pandas as pd\n",
    "def get_chemicals_list(filename):\n",
    "    chemicals = pd.read_csv(filename)\n",
    "    chemicals_list = list(chemicals[' symbol'].str.strip())\n",
    "    return chemicals_list\n",
    "chem_list=get_chemicals_list(\"chemical_elements.csv\")\n",
    "def parse_chemical_name(name,chem_list):\n",
    "    temp = ''\n",
    "    stoi = []\n",
    "    chem = []\n",
    "\n",
    "    def cf(m):\n",
    "        ls = []\n",
    "        for sf in m:\n",
    "            if sf.isupper():\n",
    "                m = m.replace(sf,\" {}\".format(sf))\n",
    "        return m\n",
    "    a = list(cf(name).split())\n",
    "\n",
    "    for ele in a:\n",
    "        if len(ele) == 1:\n",
    "            stoi.append(1)\n",
    "        elif ele[1].isdigit():\n",
    "            stoi.append(float(ele[1:]))\n",
    "        elif len(ele) > 2:\n",
    "            stoi.append(float(ele[2:]))\n",
    "        else:\n",
    "            stoi.append(1)\n",
    "\n",
    "        chem.append(''.join(i for i in ele if not (i.isdigit() or i ==\".\")))\n",
    "    return chem, stoi\n",
    "\n",
    "def check_artifacts_name(name, chem_list):\n",
    "    if '(' and ')' in name:\n",
    "        return filter_name(name, chem_list)\n",
    "    else:\n",
    "        return name\n",
    "\n",
    "def filter_name(name, chem_list):\n",
    "    output = ''\n",
    "    temp = ''\n",
    "    mult = 1\n",
    "    i = 0\n",
    "    j = 0\n",
    "    count = 0\n",
    "    k = 0\n",
    "    for char in name:\n",
    "        if char == '(':\n",
    "            i = count\n",
    "        if char == ')':\n",
    "            j = count\n",
    "            if j < len(name) - 1:\n",
    "                if name[j+1].isdigit():\n",
    "                    mult = name[j+1]\n",
    "                    k = j + 1\n",
    "        count += 1\n",
    "\n",
    "    output = name[:i] + name[k+1:]\n",
    "\n",
    "    temp = name[i+1:j]\n",
    "\n",
    "    fix, stoi = parse_chemical_name(temp, chem_list)\n",
    "\n",
    "    for el in fix:\n",
    "        if int(mult) > 1:\n",
    "            output += el + mult\n",
    "        else:\n",
    "            output += el\n",
    "\n",
    "    return output\n",
    "\n",
    "\n",
    "resList={}\n",
    "for i in chem_list:\n",
    "    resList[i]=[]\n",
    "def elemental_composition(name):\n",
    "\n",
    "    composition = np.zeros((len(chem_list), 1))\n",
    "    name = check_artifacts_name(name, chem_list)\n",
    "    ele, stoi = parse_chemical_name(name, chem_list)\n",
    "\n",
    "    for i in range(len(chem_list)):\n",
    "        for j in range(len(ele)):\n",
    "            if chem_list[i] == ele[j]:\n",
    "                composition[i, 0] = stoi[j]\n",
    " \n",
    "    composition = composition/(np.sum(composition))\n",
    "    weights = stoi/(np.sum(stoi))\n",
    "\n",
    "    return composition, ele, stoi"
   ]
  },
  {
   "cell_type": "code",
   "execution_count": 3,
   "metadata": {},
   "outputs": [],
   "source": [
    "MainDir=r'C:\\Users\\Sir\\OneDrive\\Univeristy\\HEA Analysis\\4K06\\Code\\Data Folder\\Original Data Collected'\n",
    "filePath=MainDir+r'\\TrainDt_300_Extended.csv'\n",
    "df1=pd.read_csv(filePath,index_col=\"ID\")"
   ]
  },
  {
   "cell_type": "code",
   "execution_count": 5,
   "metadata": {},
   "outputs": [],
   "source": [
    "res=[]\n",
    "comps=df1['Comp'].values\n",
    "for comp in comps:\n",
    "    composition, ele, stoi=elemental_composition(comp)\n",
    "    res.append(composition.reshape(-1))"
   ]
  },
  {
   "cell_type": "code",
   "execution_count": 10,
   "metadata": {},
   "outputs": [],
   "source": [
    "res=pd.DataFrame(res,columns=chem_list)"
   ]
  },
  {
   "cell_type": "code",
   "execution_count": 13,
   "metadata": {},
   "outputs": [],
   "source": [
    "pd.concat([df1,res],axis=1).to_csv(r'C:\\Users\\Sir\\OneDrive\\Univeristy\\HEA Analysis\\4K06\\Code\\Data Folder\\Processed 0922\\CompCal.csv')\n"
   ]
  },
  {
   "cell_type": "code",
   "execution_count": null,
   "metadata": {},
   "outputs": [],
   "source": []
  }
 ],
 "metadata": {
  "kernelspec": {
   "display_name": "Python 3",
   "language": "python",
   "name": "python3"
  },
  "language_info": {
   "codemirror_mode": {
    "name": "ipython",
    "version": 3
   },
   "file_extension": ".py",
   "mimetype": "text/x-python",
   "name": "python",
   "nbconvert_exporter": "python",
   "pygments_lexer": "ipython3",
   "version": "3.10.11"
  }
 },
 "nbformat": 4,
 "nbformat_minor": 2
}
