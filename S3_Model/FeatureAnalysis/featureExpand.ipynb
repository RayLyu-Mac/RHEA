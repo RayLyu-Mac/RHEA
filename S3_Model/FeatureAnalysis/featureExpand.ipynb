{
 "cells": [
  {
   "cell_type": "code",
   "execution_count": 4,
   "metadata": {},
   "outputs": [],
   "source": [
    "TrainExtendDir=r'C:\\Users\\Sir\\OneDrive\\Univeristy\\HEA Analysis\\4K06\\Code\\Data Folder\\Processed 0922\\Tbreak_Yield.csv'\n",
    "import pandas as pd\n",
    "import numpy as np\n",
    "data=pd.read_csv(TrainExtendDir,index_col='ID')"
   ]
  },
  {
   "cell_type": "code",
   "execution_count": 5,
   "metadata": {},
   "outputs": [
    {
     "name": "stderr",
     "output_type": "stream",
     "text": [
      "C:\\Users\\Sir\\AppData\\Local\\Packages\\PythonSoftwareFoundation.Python.3.10_qbz5n2kfra8p0\\LocalCache\\local-packages\\Python310\\site-packages\\pandas\\core\\arraylike.py:396: RuntimeWarning: divide by zero encountered in log\n",
      "  result = getattr(ufunc, method)(*inputs, **kwargs)\n",
      "C:\\Users\\Sir\\AppData\\Local\\Packages\\PythonSoftwareFoundation.Python.3.10_qbz5n2kfra8p0\\LocalCache\\local-packages\\Python310\\site-packages\\pandas\\core\\arraylike.py:396: RuntimeWarning: overflow encountered in exp\n",
      "  result = getattr(ufunc, method)(*inputs, **kwargs)\n"
     ]
    }
   ],
   "source": [
    "features_to_expand = [\n",
    "    'VEC', 'ElectDiff', 'Atomic Size Diff', 'Mixing Enthalpy', 'Mixing Entropy', \n",
    "    'AVG Shear Modulus', 'AVG Bulk Modulus', 'AVG Possion Ratio', 'Itinerate Electron', \n",
    "    'Cohesive Energy', 'Gamma', 'Local Size Mismatch', 'Local Shear Modulus Mismatch', \n",
    "    'Local Electronegativity Mismatch', 'Avg Melting Pt'\n",
    "]\n",
    "# Create new columns with the transformations\n",
    "for feature in features_to_expand:\n",
    "    data[f'{feature}_log'] = np.log(abs(data[feature]))  # log(x)\n",
    "    data[f'{feature}_sqrt'] = np.sqrt(abs(data[feature]))  # x^0.5\n",
    "    data[f'{feature}_square'] = np.square(data[feature])  # x^2\n",
    "    data[f'{feature}_cube'] = np.power(data[feature], 3)  # x^3\n",
    "    data[f'{feature}_exp'] = np.exp(data[feature])  # e^x\n",
    "\n",
    "data.to_csv(r'C:\\Users\\Sir\\OneDrive\\Univeristy\\HEA Analysis\\4K06\\Code\\Data Folder\\Processed 0922\\Tbreak_Yield_Exp.csv',index=False)"
   ]
  },
  {
   "cell_type": "code",
   "execution_count": null,
   "metadata": {},
   "outputs": [],
   "source": []
  }
 ],
 "metadata": {
  "kernelspec": {
   "display_name": "Python 3",
   "language": "python",
   "name": "python3"
  },
  "language_info": {
   "codemirror_mode": {
    "name": "ipython",
    "version": 3
   },
   "file_extension": ".py",
   "mimetype": "text/x-python",
   "name": "python",
   "nbconvert_exporter": "python",
   "pygments_lexer": "ipython3",
   "version": "3.10.11"
  }
 },
 "nbformat": 4,
 "nbformat_minor": 2
}
